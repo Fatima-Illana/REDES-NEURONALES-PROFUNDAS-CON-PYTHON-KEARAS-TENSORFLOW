{
 "cells": [
  {
   "cell_type": "markdown",
   "metadata": {
    "id": "vhwIXN_D6S41"
   },
   "source": [
    "# REDES NEURONALES PROFUNDAS"
   ]
  },
  {
   "cell_type": "markdown",
   "metadata": {
    "id": "RjFvE2t03CGd"
   },
   "source": [
    "Importamos las librerías:"
   ]
  },
  {
   "cell_type": "code",
   "execution_count": null,
   "metadata": {
    "id": "NQDp9KvixFW-"
   },
   "outputs": [],
   "source": [
    "# Tensorflow y tf.keras\n",
    "import tensorflow as tf\n",
    "from tensorflow import keras\n",
    "\n",
    "# Otras librerías:\n",
    "import numpy as np\n",
    "import pandas as pd\n",
    "import matplotlib.pyplot as plt\n",
    "from sklearn.metrics import classification_report, confusion_matrix\n",
    "import time"
   ]
  },
  {
   "cell_type": "markdown",
   "metadata": {
    "id": "K-c_a8Uq3ZKf"
   },
   "source": [
    "Accedemos al sistema de ficheros de Google:"
   ]
  },
  {
   "cell_type": "code",
   "execution_count": null,
   "metadata": {
    "colab": {
     "base_uri": "https://localhost:8080/"
    },
    "id": "21qbrBWL3dKE",
    "outputId": "f6a4a16b-42f4-4f63-b01e-6cfa0a889c01"
   },
   "outputs": [
    {
     "name": "stdout",
     "output_type": "stream",
     "text": [
      "Mounted at /gdrive\n"
     ]
    }
   ],
   "source": [
    "from google.colab import drive\n",
    "drive.mount('/gdrive', force_remount=True)"
   ]
  },
  {
   "cell_type": "markdown",
   "metadata": {
    "id": "G1YTaqN2AZ_B"
   },
   "source": [
    "## INICIALIZACIÓN:"
   ]
  },
  {
   "cell_type": "markdown",
   "metadata": {
    "id": "XWwiXKnx3fzj"
   },
   "source": [
    "Cargamos los datos:"
   ]
  },
  {
   "cell_type": "code",
   "execution_count": null,
   "metadata": {
    "colab": {
     "base_uri": "https://localhost:8080/"
    },
    "id": "-HMy1w0-3h44",
    "outputId": "b5058ae7-fadb-4a01-b703-13f9db7398c9"
   },
   "outputs": [
    {
     "name": "stdout",
     "output_type": "stream",
     "text": [
      "x_train: (29016, 16)\n",
      "t_train: (29016, 1)\n",
      "x_dev: (3627, 16)\n",
      "t_dev: (3627, 1)\n"
     ]
    }
   ],
   "source": [
    "ATT_FILE = \"./HotelReservationsPreparedCleanAttributes.csv\"\n",
    "LABEL_FILE = \"./HotelReservationsOutput.csv\"\n",
    "\n",
    "# Lo establecemos en 0.8 para obtener una partición 80% / 10% / 10% del dataset.\n",
    "TRAIN_RATE = 0.8\n",
    "\n",
    "attributes = pd.read_csv(ATT_FILE)\n",
    "label = pd.read_csv(LABEL_FILE)\n",
    "\n",
    "n_instances = attributes.shape[0] # Número de instancias total.\n",
    "n_train = int(n_instances*TRAIN_RATE) # Número de instancias para entrenamiento (80%)\n",
    "n_dev = int((n_instances-n_train)/2) # Número de instancias para dev test / final test (10%)\n",
    "\n",
    "# Cogemos las n_train primeras instancias para el entrenamiento.\n",
    "x_train = attributes.values[:n_train]\n",
    "t_train = label.values[:n_train]\n",
    "\n",
    "# Cogemos las siguientes n_dev siguientes instancias para dev test.\n",
    "x_dev = attributes.values[n_train:n_train+n_dev]\n",
    "t_dev = label.values[n_train:n_train+n_dev]\n",
    "\n",
    "print (\"x_train:\", x_train.shape)\n",
    "print (\"t_train:\", t_train.shape)\n",
    "\n",
    "print (\"x_dev:\", x_dev.shape)\n",
    "print (\"t_dev:\", t_dev.shape)\n"
   ]
  },
  {
   "cell_type": "markdown",
   "metadata": {
    "id": "86Cg76zm83yR"
   },
   "source": [
    "Inicializamos las variables:"
   ]
  },
  {
   "cell_type": "code",
   "execution_count": null,
   "metadata": {
    "id": "Ypp4GbtE86re"
   },
   "outputs": [],
   "source": [
    "INPUTS = x_train.shape[1] # Número de variables.\n",
    "OUTPUTS = t_train.shape[1] # Número de etiquetas de salida.\n",
    "NUM_TRAINING_EXAMPLES = int(round(x_train.shape[0]/1)) # Número de instancias empleadas para entrenamiento.\n",
    "NUM_DEV_EXAMPLES = int (round (x_dev.shape[0]/1)) # Número de instancias empleadas para dev."
   ]
  },
  {
   "cell_type": "markdown",
   "metadata": {
    "id": "qEHdrInk-8b8"
   },
   "source": [
    "Mostramos algunas instancias para comprobar que son correctas:"
   ]
  },
  {
   "cell_type": "code",
   "execution_count": null,
   "metadata": {
    "colab": {
     "base_uri": "https://localhost:8080/"
    },
    "id": "HYDqvOKh_QOB",
    "outputId": "af27443f-82cc-4224-9ff6-81384754f447"
   },
   "outputs": [
    {
     "name": "stdout",
     "output_type": "stream",
     "text": [
      "x_train:\n",
      "\n",
      "[[ 0.5        -1.         -0.71428571 -0.64705882 -1.         -1.\n",
      "   1.         -0.87810384  0.09090909  0.6         0.         -1.\n",
      "  -1.         -1.         -0.3247037  -1.        ]\n",
      " [ 0.         -1.         -0.42857143 -0.29411765 -1.         -1.\n",
      "   1.         -0.6523702  -0.63636364  0.46666667 -1.         -1.\n",
      "  -1.         -1.         -0.79259259 -1.        ]\n",
      " [ 0.         -1.         -1.         -0.52941176 -1.         -1.\n",
      "   0.          0.16930023  0.63636364 -0.73333333 -1.         -1.\n",
      "  -1.         -1.         -0.67037037 -1.        ]\n",
      " [ 0.         -1.         -0.42857143 -1.         -1.         -1.\n",
      "   0.         -0.67945824  0.63636364  0.93333333  0.         -1.\n",
      "  -1.         -1.         -0.72022222 -0.6       ]\n",
      " [ 0.         -1.         -1.         -0.76470588  1.         -1.\n",
      "   0.         -0.93227991  0.27272727 -0.93333333  0.         -1.\n",
      "  -1.         -1.         -0.54074074 -1.        ]]\n",
      "\n",
      "t_train:\n",
      "\n",
      "[[0]\n",
      " [1]\n",
      " [0]\n",
      " [1]\n",
      " [1]\n",
      " [1]\n",
      " [1]\n",
      " [0]\n",
      " [1]\n",
      " [0]]\n",
      "\n",
      "x_dev:\n",
      "\n",
      "[[ 0.         -1.         -0.42857143 -0.88235294 -1.         -1.\n",
      "   0.         -1.          0.27272727  0.4         0.         -1.\n",
      "  -1.         -1.         -0.54074074 -0.6       ]\n",
      " [ 0.         -1.         -0.71428571 -0.88235294  1.         -1.\n",
      "   0.         -0.97291196 -0.45454545  0.          0.         -1.\n",
      "  -1.         -1.         -0.61481481 -1.        ]\n",
      " [ 0.5        -1.         -0.42857143 -0.64705882 -1.         -1.\n",
      "   0.         -0.82844244 -0.45454545 -0.4         0.         -1.\n",
      "  -1.         -1.         -0.49       -0.6       ]\n",
      " [-1.         -0.6        -0.42857143 -0.76470588 -1.         -1.\n",
      "  -1.         -0.48081264 -0.09090909  0.66666667  0.         -1.\n",
      "  -1.         -1.         -0.65881481 -1.        ]\n",
      " [ 0.         -1.         -0.42857143 -0.88235294  1.         -1.\n",
      "   0.         -0.99548533 -0.45454545  0.46666667  0.         -1.\n",
      "  -1.         -1.         -0.5962963  -1.        ]]\n",
      "\n",
      "t_dev:\n",
      "\n",
      "[[1]\n",
      " [0]\n",
      " [1]\n",
      " [0]\n",
      " [1]]\n"
     ]
    }
   ],
   "source": [
    "print('x_train:')\n",
    "print()\n",
    "print(x_train[:5])\n",
    "print()\n",
    "print('t_train:')\n",
    "print()\n",
    "print(t_train[:10])\n",
    "print()\n",
    "print('x_dev:')\n",
    "print()\n",
    "print(x_dev[:5])\n",
    "print()\n",
    "print('t_dev:')\n",
    "print()\n",
    "print(t_dev[:5])"
   ]
  },
  {
   "cell_type": "markdown",
   "metadata": {
    "id": "a85qbQKOANRm"
   },
   "source": [
    "## HIPERPARÁMETROS:"
   ]
  },
  {
   "cell_type": "code",
   "execution_count": null,
   "metadata": {
    "id": "OSUpSNJOAPs6"
   },
   "outputs": [],
   "source": [
    "n_epochs = 1000\n",
    "learning_rate = 0.0001\n",
    "batch_size = 2048\n",
    "n_neurons_per_hidden_layer = [1000, 750, 500, 250, 75, 25]"
   ]
  },
  {
   "cell_type": "markdown",
   "metadata": {
    "id": "JsH7L9qmjMrW"
   },
   "source": [
    "## MODELO"
   ]
  },
  {
   "cell_type": "markdown",
   "metadata": {
    "id": "DKjnqb6yEYjg"
   },
   "source": [
    "Emplearemos como función de activación para las capas ocultas la función ReLu ya que nuestro objetivo es crear una red neuronal profunda y, como la función ReLU no se satura con valores altos de entrada (net), evitaremos el *Vanishing Gradients Problem*."
   ]
  },
  {
   "cell_type": "markdown",
   "metadata": {
    "id": "GLbyt3JXI7cY"
   },
   "source": [
    "Inicialización:"
   ]
  },
  {
   "cell_type": "code",
   "execution_count": null,
   "metadata": {
    "id": "ebjSRpu8kdOE"
   },
   "outputs": [],
   "source": [
    "# my_initializer = keras.initializers.Zeros()\n",
    "\n",
    "my_initializer = keras.initializers.RandomUniform(minval=-0.1, maxval=0.1, seed=None)\n",
    "\n",
    "# my_initializer = keras.initializers.RandomUniform(minval=-0.3, maxval=0.3, seed=None)\n",
    "# my_initializer = keras.initializers.RandomUniform(minval=-0.5, maxval=0.5, seed=None)\n",
    "# my_initializer = keras.initializers.RandomNormal(mean=0.0, stddev=0.05, seed=None)\n",
    "# my_initializer = keras.initializers.he_normal(seed=None)\n",
    "# my_initializer = keras.initializers.he_uniform(seed=None)"
   ]
  },
  {
   "cell_type": "markdown",
   "metadata": {
    "id": "Rfl82c8SI-Mr"
   },
   "source": [
    "Regularización:"
   ]
  },
  {
   "cell_type": "code",
   "execution_count": null,
   "metadata": {
    "id": "YvRzG2z26pkW"
   },
   "outputs": [],
   "source": [
    "dpr = 0.2\n",
    "# my_regulizer = keras.regularizers.l1(0.001)\n",
    "# my_regulizer = keras.regularizers.l1(0.0001)\n",
    "# my_regulizer = keras.regularizers.l2(0.001)\n",
    "# my_regulizer = keras.regularizers.l2(0.0001)\n",
    "# my_regulizer = keras.regularizers.l2(0.00005)\n",
    "# my_regulizer = keras.regularizers.l2(0.00001)\n",
    "# my_regulizer = keras.regularizers.l1_l2(0.001)"
   ]
  },
  {
   "cell_type": "markdown",
   "metadata": {
    "id": "3yzAW-MMPeI3"
   },
   "source": [
    "Definición del modelo:"
   ]
  },
  {
   "cell_type": "code",
   "execution_count": null,
   "metadata": {
    "colab": {
     "base_uri": "https://localhost:8080/"
    },
    "id": "mU7lbUabjPJI",
    "outputId": "052ab0e2-bb7b-423e-f733-712985ae26f0"
   },
   "outputs": [
    {
     "name": "stdout",
     "output_type": "stream",
     "text": [
      "Model: \"DNM-HotelReservations\"\n",
      "_________________________________________________________________\n",
      " Layer (type)                Output Shape              Param #   \n",
      "=================================================================\n",
      " dense (Dense)               (None, 1000)              17000     \n",
      "                                                                 \n",
      " dropout (Dropout)           (None, 1000)              0         \n",
      "                                                                 \n",
      " dense_1 (Dense)             (None, 750)               750750    \n",
      "                                                                 \n",
      " dropout_1 (Dropout)         (None, 750)               0         \n",
      "                                                                 \n",
      " dense_2 (Dense)             (None, 500)               375500    \n",
      "                                                                 \n",
      " dropout_2 (Dropout)         (None, 500)               0         \n",
      "                                                                 \n",
      " dense_3 (Dense)             (None, 250)               125250    \n",
      "                                                                 \n",
      " dropout_3 (Dropout)         (None, 250)               0         \n",
      "                                                                 \n",
      " dense_4 (Dense)             (None, 75)                18825     \n",
      "                                                                 \n",
      " dropout_4 (Dropout)         (None, 75)                0         \n",
      "                                                                 \n",
      " dense_5 (Dense)             (None, 25)                1900      \n",
      "                                                                 \n",
      " dropout_5 (Dropout)         (None, 25)                0         \n",
      "                                                                 \n",
      " dense_6 (Dense)             (None, 1)                 26        \n",
      "                                                                 \n",
      "=================================================================\n",
      "Total params: 1289251 (4.92 MB)\n",
      "Trainable params: 1289251 (4.92 MB)\n",
      "Non-trainable params: 0 (0.00 Byte)\n",
      "_________________________________________________________________\n"
     ]
    },
    {
     "name": "stderr",
     "output_type": "stream",
     "text": [
      "/usr/local/lib/python3.10/dist-packages/keras/src/initializers/initializers.py:120: UserWarning: The initializer RandomUniform is unseeded and being called multiple times, which will return identical values each time (even if the initializer is unseeded). Please update your code to provide a seed to the initializer, or avoid using the same initializer instance more than once.\n",
      "  warnings.warn(\n"
     ]
    }
   ],
   "source": [
    "# Creamos un modelo secuencial vacío.\n",
    "model = keras.Sequential(name=\"DNM-HotelReservations\")\n",
    "\n",
    "# Creamos una capa de entrada con el número de inputs especificado.\n",
    "model.add(keras.layers.InputLayer(input_shape=(INPUTS,)))\n",
    "\n",
    "# Agregamos 4 capas ocultas con el tamaño especificado previamente.\n",
    "# Las capas tendrán la función de activación ReLU.\n",
    "for neurons in n_neurons_per_hidden_layer:\n",
    "  # model.add(keras.layers.Dense(neurons, activation=\"elu\"))\n",
    "  model.add(keras.layers.Dense(neurons, activation=\"elu\", kernel_initializer = my_initializer))\n",
    "  # model.add(keras.layers.Dense(neurons, activation=\"relu\", kernel_initializer = my_initializer, kernel_regularizer = my_regulizer))\n",
    "  model.add(keras.layers.Dropout(rate=dpr))\n",
    "\n",
    "# Agregamos una capa de salida con el número de outputs especificado.\n",
    "# Empleará la función de activación Sigmoid (1 única neurona de salida)\n",
    "model.add(keras.layers.Dense(OUTPUTS, activation=\"sigmoid\"))\n",
    "# model.add(keras.layers.Dense(OUTPUTS, activation=\"sigmoid\", kernel_regularizer = my_regulizer))\n",
    "\n",
    "model.summary()"
   ]
  },
  {
   "cell_type": "markdown",
   "metadata": {
    "id": "v07-GTlBPocq"
   },
   "source": [
    "Compilación del modelo empleando distintos optimizadores:"
   ]
  },
  {
   "cell_type": "code",
   "execution_count": null,
   "metadata": {
    "id": "IhZxRC4Es9Xq"
   },
   "outputs": [],
   "source": [
    "# Compilamos el modelo.\n",
    "# model.compile(loss=tf.keras.losses.BinaryCrossentropy(),\n",
    "#               optimizer=tf.keras.optimizers.SGD(learning_rate=learning_rate),\n",
    "#               metrics=[\"binary_accuracy\"])\n",
    "\n",
    "# Establecemos como función de pérdida la entropía cruzada binaria.\n",
    "# Establecemos como métrica de evaluación la precisión binaria.\n",
    "\n",
    "# OPTIMIZADORES\n",
    "\n",
    "# model.compile(loss=tf.keras.losses.BinaryCrossentropy(),\n",
    "#               optimizer=tf.keras.optimizers.SGD(learning_rate=learning_rate, momentum=0.9),\n",
    "#               metrics=[\"binary_accuracy\"])\n",
    "\n",
    "# model.compile(loss=tf.keras.losses.BinaryCrossentropy(),\n",
    "#               optimizer=tf.keras.optimizers.SGD(learning_rate=learning_rate, momentum=0.9,  nesterov=True),\n",
    "#               metrics=[\"binary_accuracy\"])\n",
    "\n",
    "# model.compile(loss=tf.keras.losses.BinaryCrossentropy(),\n",
    "#               optimizer=tf.keras.optimizers.RMSprop(learning_rate=learning_rate, rho=0.9),\n",
    "#               metrics=[\"binary_accuracy\"])\n",
    "\n",
    "model.compile(loss=tf.keras.losses.BinaryCrossentropy(),\n",
    "              optimizer=tf.keras.optimizers.Adam(learning_rate=learning_rate, beta_1=0.9, beta_2=0.999),\n",
    "              metrics=[\"binary_accuracy\"])\n"
   ]
  },
  {
   "cell_type": "markdown",
   "metadata": {
    "id": "X33pSEILwMw5"
   },
   "source": [
    "## ENTRENAMIENTO"
   ]
  },
  {
   "cell_type": "code",
   "execution_count": null,
   "metadata": {
    "id": "7kY2Tx9gwOhp"
   },
   "outputs": [],
   "source": [
    "start_time = time.perf_counter()\n",
    "history = model.fit(x_train, t_train,\n",
    "                    batch_size = batch_size,\n",
    "                    epochs=n_epochs,\n",
    "                    verbose = 0,\n",
    "                    validation_data = (x_dev, t_dev))\n",
    "finish_time = time.perf_counter()"
   ]
  },
  {
   "cell_type": "markdown",
   "metadata": {
    "id": "eeq3uBAnwp_o"
   },
   "source": [
    "## RESULTADOS DE ENTRENAMIENTO"
   ]
  },
  {
   "cell_type": "code",
   "execution_count": null,
   "metadata": {
    "colab": {
     "base_uri": "https://localhost:8080/",
     "height": 470
    },
    "id": "BIn_r9wIwrXs",
    "outputId": "94e58ace-539a-4755-b4e5-16f5c5320fb5"
   },
   "outputs": [
    {
     "data": {
      "image/png": "[encoded data removed]",
      "text/plain": [
       "<Figure size 800x500 with 1 Axes>"
      ]
     },
     "metadata": {},
     "output_type": "display_data"
    }
   ],
   "source": [
    "# Se crea un DF a partir del historial de entrenamiento,\n",
    "# que contiene las métricas registradas durante el entrenamiento.\n",
    "results = pd.DataFrame(history.history)\n",
    "# Gráfica con las métricas obtenidas en el entrenamiento\n",
    "# en función de las épocas.\n",
    "results.plot(figsize = (8, 5))\n",
    "plt.grid(True)\n",
    "plt.xlabel (\"Epochs\")\n",
    "plt.ylabel (\"Accuracy - Mean Log Loss\")\n",
    "plt.gca().set_ylim(0, 1) # set the vertical range to [0,1]\n",
    "plt.show()"
   ]
  },
  {
   "cell_type": "code",
   "execution_count": null,
   "metadata": {
    "colab": {
     "base_uri": "https://localhost:8080/"
    },
    "id": "II27PSRcwvcc",
    "outputId": "6d1a0905-5a9d-4980-b7bb-97e8f9850b63"
   },
   "outputs": [
    {
     "name": "stdout",
     "output_type": "stream",
     "text": [
      "Error (training):  11.0 %\n",
      "Error (development test):  11.8 %\n",
      "Bias:  1.0 %\n",
      "Variance:  0.8 %\n",
      "Time:  157 seconds\n"
     ]
    }
   ],
   "source": [
    "# Para obtener los parámetros se accede a la última fila de la matriz,\n",
    "# correspondiente a los parámetros de la última época, y al último valor de dicha\n",
    "# fila para obtener el valor de la precisión binaria.\n",
    "train_error = round((1 - results.binary_accuracy.values[-1:][0])*100, 1)\n",
    "test_error = round((1 - results.val_binary_accuracy.values[-1:][0])*100, 1)\n",
    "bayes_error = 10\n",
    "bias = round((train_error - bayes_error), 1)\n",
    "variance = round((test_error - train_error), 1)\n",
    "\n",
    "print (\"Error (training): \", train_error, \"%\")\n",
    "print (\"Error (development test): \", test_error, \"%\")\n",
    "print(\"Bias: \", bias, \"%\")\n",
    "print(\"Variance: \", variance, \"%\")\n",
    "print (\"Time: \", round((finish_time - start_time)),\"seconds\")"
   ]
  },
  {
   "cell_type": "code",
   "execution_count": null,
   "metadata": {
    "colab": {
     "base_uri": "https://localhost:8080/"
    },
    "id": "jMFCc0mgQEaS",
    "outputId": "5264cb7d-6181-4c63-cb46-18ee26c1e4b7"
   },
   "outputs": [
    {
     "data": {
      "text/plain": [
       "{'verbose': 0, 'epochs': 1000, 'steps': 15}"
      ]
     },
     "execution_count": 14,
     "metadata": {},
     "output_type": "execute_result"
    }
   ],
   "source": [
    "history.params"
   ]
  },
  {
   "cell_type": "code",
   "execution_count": null,
   "metadata": {
    "colab": {
     "base_uri": "https://localhost:8080/",
     "height": 81
    },
    "id": "aV_oSp6lQFMP",
    "outputId": "0fc12d96-6495-4377-8c8c-59ccb865befe"
   },
   "outputs": [
    {
     "data": {
      "application/vnd.google.colaboratory.intrinsic+json": {
       "summary": "{\n  \"name\": \"results[-1:]\",\n  \"rows\": 1,\n  \"fields\": [\n    {\n      \"column\": \"loss\",\n      \"properties\": {\n        \"dtype\": \"number\",\n        \"std\": null,\n        \"min\": 0.25240883231163025,\n        \"max\": 0.25240883231163025,\n        \"num_unique_values\": 1,\n        \"samples\": [\n          0.25240883231163025\n        ],\n        \"semantic_type\": \"\",\n        \"description\": \"\"\n      }\n    },\n    {\n      \"column\": \"binary_accuracy\",\n      \"properties\": {\n        \"dtype\": \"number\",\n        \"std\": null,\n        \"min\": 0.8900951147079468,\n        \"max\": 0.8900951147079468,\n        \"num_unique_values\": 1,\n        \"samples\": [\n          0.8900951147079468\n        ],\n        \"semantic_type\": \"\",\n        \"description\": \"\"\n      }\n    },\n    {\n      \"column\": \"val_loss\",\n      \"properties\": {\n        \"dtype\": \"number\",\n        \"std\": null,\n        \"min\": 0.27727556228637695,\n        \"max\": 0.27727556228637695,\n        \"num_unique_values\": 1,\n        \"samples\": [\n          0.27727556228637695\n        ],\n        \"semantic_type\": \"\",\n        \"description\": \"\"\n      }\n    },\n    {\n      \"column\": \"val_binary_accuracy\",\n      \"properties\": {\n        \"dtype\": \"number\",\n        \"std\": null,\n        \"min\": 0.8822718262672424,\n        \"max\": 0.8822718262672424,\n        \"num_unique_values\": 1,\n        \"samples\": [\n          0.8822718262672424\n        ],\n        \"semantic_type\": \"\",\n        \"description\": \"\"\n      }\n    }\n  ]\n}",
       "type": "dataframe"
      },
      "text/html": [
       "\n",
       "  <div id=\"df-0f85c455-6a51-41d6-b08c-53689d0a24bf\" class=\"colab-df-container\">\n",
       "    <div>\n",
       "<style scoped>\n",
       "    .dataframe tbody tr th:only-of-type {\n",
       "        vertical-align: middle;\n",
       "    }\n",
       "\n",
       "    .dataframe tbody tr th {\n",
       "        vertical-align: top;\n",
       "    }\n",
       "\n",
       "    .dataframe thead th {\n",
       "        text-align: right;\n",
       "    }\n",
       "</style>\n",
       "<table border=\"1\" class=\"dataframe\">\n",
       "  <thead>\n",
       "    <tr style=\"text-align: right;\">\n",
       "      <th></th>\n",
       "      <th>loss</th>\n",
       "      <th>binary_accuracy</th>\n",
       "      <th>val_loss</th>\n",
       "      <th>val_binary_accuracy</th>\n",
       "    </tr>\n",
       "  </thead>\n",
       "  <tbody>\n",
       "    <tr>\n",
       "      <th>999</th>\n",
       "      <td>0.252409</td>\n",
       "      <td>0.890095</td>\n",
       "      <td>0.277276</td>\n",
       "      <td>0.882272</td>\n",
       "    </tr>\n",
       "  </tbody>\n",
       "</table>\n",
       "</div>\n",
       "    <div class=\"colab-df-buttons\">\n",
       "\n",
       "  <div class=\"colab-df-container\">\n",
       "    <button class=\"colab-df-convert\" onclick=\"convertToInteractive('df-0f85c455-6a51-41d6-b08c-53689d0a24bf')\"\n",
       "            title=\"Convert this dataframe to an interactive table.\"\n",
       "            style=\"display:none;\">\n",
       "\n",
       "  <svg xmlns=\"http://www.w3.org/2000/svg\" height=\"24px\" viewBox=\"0 -960 960 960\">\n",
       "    <path d=\"M120-120v-720h720v720H120Zm60-500h600v-160H180v160Zm220 220h160v-160H400v160Zm0 220h160v-160H400v160ZM180-400h160v-160H180v160Zm440 0h160v-160H620v160ZM180-180h160v-160H180v160Zm440 0h160v-160H620v160Z\"/>\n",
       "  </svg>\n",
       "    </button>\n",
       "\n",
       "  <style>\n",
       "    .colab-df-container {\n",
       "      display:flex;\n",
       "      gap: 12px;\n",
       "    }\n",
       "\n",
       "    .colab-df-convert {\n",
       "      background-color: #E8F0FE;\n",
       "      border: none;\n",
       "      border-radius: 50%;\n",
       "      cursor: pointer;\n",
       "      display: none;\n",
       "      fill: #1967D2;\n",
       "      height: 32px;\n",
       "      padding: 0 0 0 0;\n",
       "      width: 32px;\n",
       "    }\n",
       "\n",
       "    .colab-df-convert:hover {\n",
       "      background-color: #E2EBFA;\n",
       "      box-shadow: 0px 1px 2px rgba(60, 64, 67, 0.3), 0px 1px 3px 1px rgba(60, 64, 67, 0.15);\n",
       "      fill: #174EA6;\n",
       "    }\n",
       "\n",
       "    .colab-df-buttons div {\n",
       "      margin-bottom: 4px;\n",
       "    }\n",
       "\n",
       "    [theme=dark] .colab-df-convert {\n",
       "      background-color: #3B4455;\n",
       "      fill: #D2E3FC;\n",
       "    }\n",
       "\n",
       "    [theme=dark] .colab-df-convert:hover {\n",
       "      background-color: #434B5C;\n",
       "      box-shadow: 0px 1px 3px 1px rgba(0, 0, 0, 0.15);\n",
       "      filter: drop-shadow(0px 1px 2px rgba(0, 0, 0, 0.3));\n",
       "      fill: #FFFFFF;\n",
       "    }\n",
       "  </style>\n",
       "\n",
       "    <script>\n",
       "      const buttonEl =\n",
       "        document.querySelector('#df-0f85c455-6a51-41d6-b08c-53689d0a24bf button.colab-df-convert');\n",
       "      buttonEl.style.display =\n",
       "        google.colab.kernel.accessAllowed ? 'block' : 'none';\n",
       "\n",
       "      async function convertToInteractive(key) {\n",
       "        const element = document.querySelector('#df-0f85c455-6a51-41d6-b08c-53689d0a24bf');\n",
       "        const dataTable =\n",
       "          await google.colab.kernel.invokeFunction('convertToInteractive',\n",
       "                                                    [key], {});\n",
       "        if (!dataTable) return;\n",
       "\n",
       "        const docLinkHtml = 'Like what you see? Visit the ' +\n",
       "          '<a target=\"_blank\" href=https://colab.research.google.com/notebooks/data_table.ipynb>data table notebook</a>'\n",
       "          + ' to learn more about interactive tables.';\n",
       "        element.innerHTML = '';\n",
       "        dataTable['output_type'] = 'display_data';\n",
       "        await google.colab.output.renderOutput(dataTable, element);\n",
       "        const docLink = document.createElement('div');\n",
       "        docLink.innerHTML = docLinkHtml;\n",
       "        element.appendChild(docLink);\n",
       "      }\n",
       "    </script>\n",
       "  </div>\n",
       "\n",
       "    </div>\n",
       "  </div>\n"
      ],
      "text/plain": [
       "         loss  binary_accuracy  val_loss  val_binary_accuracy\n",
       "999  0.252409         0.890095  0.277276             0.882272"
      ]
     },
     "execution_count": 15,
     "metadata": {},
     "output_type": "execute_result"
    }
   ],
   "source": [
    "results[-1:]"
   ]
  },
  {
   "cell_type": "markdown",
   "metadata": {
    "id": "FtOEcqTHQVwV"
   },
   "source": [
    "## DEVELOPMENT TEST SET"
   ]
  },
  {
   "cell_type": "markdown",
   "metadata": {
    "id": "eolwATHSRWvX"
   },
   "source": [
    "Vamos a ver cómo prdice el modelo con el conjunto de Development Test."
   ]
  },
  {
   "cell_type": "code",
   "execution_count": null,
   "metadata": {
    "colab": {
     "base_uri": "https://localhost:8080/"
    },
    "id": "emYj-WtUQZuf",
    "outputId": "3eb5a29b-86ab-499e-8e40-24ace5c1f5b0"
   },
   "outputs": [
    {
     "name": "stdout",
     "output_type": "stream",
     "text": [
      "114/114 [==============================] - 0s 2ms/step\n"
     ]
    },
    {
     "data": {
      "text/plain": [
       "array([[9.2996740e-01],\n",
       "       [5.0826675e-01],\n",
       "       [7.2249073e-01],\n",
       "       [8.5036594e-01],\n",
       "       [6.3351256e-01],\n",
       "       [9.9999619e-01],\n",
       "       [9.3749084e-02],\n",
       "       [2.6615050e-01],\n",
       "       [9.9999905e-01],\n",
       "       [9.9998713e-01],\n",
       "       [5.2338768e-02],\n",
       "       [2.2526590e-06],\n",
       "       [1.6780736e-01],\n",
       "       [8.7667167e-01],\n",
       "       [1.6114137e-01],\n",
       "       [9.5125659e-05],\n",
       "       [5.2703780e-01],\n",
       "       [2.4680373e-01],\n",
       "       [9.9926645e-01],\n",
       "       [1.0000000e+00]], dtype=float32)"
      ]
     },
     "execution_count": 28,
     "metadata": {},
     "output_type": "execute_result"
    }
   ],
   "source": [
    "# Obtener predicciones de la red neuronal\n",
    "dev_predictions = model.predict(x_dev)\n",
    "dev_predictions[:20]"
   ]
  },
  {
   "cell_type": "code",
   "execution_count": null,
   "metadata": {
    "colab": {
     "base_uri": "https://localhost:8080/"
    },
    "id": "N1R8pvoPTBFT",
    "outputId": "2999282b-8447-4fe9-a7fd-42d44cba5a59"
   },
   "outputs": [
    {
     "data": {
      "text/plain": [
       "array([[1],\n",
       "       [0],\n",
       "       [1],\n",
       "       [0],\n",
       "       [1],\n",
       "       [1],\n",
       "       [0],\n",
       "       [1],\n",
       "       [1],\n",
       "       [1],\n",
       "       [0],\n",
       "       [0],\n",
       "       [1],\n",
       "       [1],\n",
       "       [0],\n",
       "       [0],\n",
       "       [1],\n",
       "       [1],\n",
       "       [1],\n",
       "       [1]])"
      ]
     },
     "execution_count": 29,
     "metadata": {},
     "output_type": "execute_result"
    }
   ],
   "source": [
    "# Valores objetivo:\n",
    "t_dev[:20]"
   ]
  },
  {
   "cell_type": "code",
   "execution_count": null,
   "metadata": {
    "colab": {
     "base_uri": "https://localhost:8080/"
    },
    "id": "Hhtk0tRaTid9",
    "outputId": "bf9c81ff-77df-470c-b574-50c35745e19c"
   },
   "outputs": [
    {
     "name": "stdout",
     "output_type": "stream",
     "text": [
      "[[ True]\n",
      " [False]\n",
      " [ True]\n",
      " [False]\n",
      " [ True]\n",
      " [ True]\n",
      " [ True]\n",
      " [False]\n",
      " [ True]\n",
      " [ True]\n",
      " [ True]\n",
      " [ True]\n",
      " [False]\n",
      " [ True]\n",
      " [ True]\n",
      " [ True]\n",
      " [ True]\n",
      " [False]\n",
      " [ True]\n",
      " [ True]\n",
      " [ True]\n",
      " [ True]\n",
      " [ True]\n",
      " [ True]\n",
      " [ True]\n",
      " [False]\n",
      " [False]\n",
      " [ True]\n",
      " [ True]\n",
      " [False]]\n"
     ]
    }
   ],
   "source": [
    " # Redondear las predicciones a 0 o 1\n",
    "dev_rounded_predictions = np.round(dev_predictions)\n",
    "# Comparar las predicciones redondeadas con las etiquetas verdaderas\n",
    "dev_correct_predictions = np.equal(dev_rounded_predictions, t_dev)\n",
    "# Imprimir las primeras 30 comparaciones de predicciones correctas o incorrectas\n",
    "print(dev_correct_predictions[:30])"
   ]
  },
  {
   "cell_type": "code",
   "execution_count": null,
   "metadata": {
    "colab": {
     "base_uri": "https://localhost:8080/"
    },
    "id": "SwZTAZGMw-mF",
    "outputId": "90e7443c-75e9-40d0-daa0-d3a18fba280c"
   },
   "outputs": [
    {
     "name": "stdout",
     "output_type": "stream",
     "text": [
      "Número de predicciones correctas: 3200\n",
      "Número de predicciones incorrectas: 427\n"
     ]
    }
   ],
   "source": [
    "# Contar el número de predicciones correctas e incorrectas\n",
    "from collections import Counter\n",
    "correct_counts = Counter(dev_correct_predictions.flatten())\n",
    "print(\"Número de predicciones correctas:\", correct_counts[True])\n",
    "print(\"Número de predicciones incorrectas:\", correct_counts[False])"
   ]
  },
  {
   "cell_type": "markdown",
   "metadata": {
    "id": "rm9w_5iNnqB8"
   },
   "source": [
    "## TEST FINAL"
   ]
  },
  {
   "cell_type": "code",
   "execution_count": null,
   "metadata": {
    "colab": {
     "base_uri": "https://localhost:8080/"
    },
    "id": "o83ddImQns3N",
    "outputId": "4e51b9ad-cfa8-4e14-dd20-cf256f9c169e"
   },
   "outputs": [
    {
     "name": "stdout",
     "output_type": "stream",
     "text": [
      "x_test: (3627, 16)\n",
      "t_test: (3627, 1)\n"
     ]
    }
   ],
   "source": [
    "# Sacamos el conjunto de test final.\n",
    "n_final_test = n_instances-n_train-n_dev\n",
    "x_final_test = attributes.values[n_train+n_dev:n_instances]\n",
    "t_final_test = label.values[n_train+n_dev:n_instances]\n",
    "\n",
    "print (\"x_test:\",x_final_test.shape)\n",
    "print (\"t_test:\",t_final_test.shape)"
   ]
  },
  {
   "cell_type": "code",
   "execution_count": null,
   "metadata": {
    "colab": {
     "base_uri": "https://localhost:8080/"
    },
    "id": "dI4NoYHVpFsB",
    "outputId": "09374388-4dd2-44fd-e9d5-1ef31646288c"
   },
   "outputs": [
    {
     "name": "stdout",
     "output_type": "stream",
     "text": [
      "114/114 [==============================] - 0s 4ms/step - loss: 0.2913 - binary_accuracy: 0.8762\n"
     ]
    },
    {
     "data": {
      "text/plain": [
       "[0.2913157641887665, 0.8762062191963196]"
      ]
     },
     "execution_count": 34,
     "metadata": {},
     "output_type": "execute_result"
    }
   ],
   "source": [
    "# Evaluamos el modelo en el conjunto de test final.\n",
    "model.evaluate(x_final_test, t_final_test)"
   ]
  },
  {
   "cell_type": "code",
   "execution_count": null,
   "metadata": {
    "colab": {
     "base_uri": "https://localhost:8080/"
    },
    "id": "voZkSHq8pOS3",
    "outputId": "3ac477ff-bdab-4af8-bb5f-30f7a28b4148"
   },
   "outputs": [
    {
     "name": "stdout",
     "output_type": "stream",
     "text": [
      "114/114 [==============================] - 0s 2ms/step\n"
     ]
    },
    {
     "data": {
      "text/plain": [
       "array([[1.],\n",
       "       [1.],\n",
       "       [1.],\n",
       "       [1.],\n",
       "       [1.],\n",
       "       [1.],\n",
       "       [1.],\n",
       "       [1.],\n",
       "       [1.],\n",
       "       [1.],\n",
       "       [1.],\n",
       "       [1.],\n",
       "       [1.],\n",
       "       [1.],\n",
       "       [1.],\n",
       "       [1.],\n",
       "       [0.],\n",
       "       [0.],\n",
       "       [0.],\n",
       "       [0.]], dtype=float32)"
      ]
     },
     "execution_count": 35,
     "metadata": {},
     "output_type": "execute_result"
    }
   ],
   "source": [
    "# Predicciones en el test final.\n",
    "# test_predictions=model.predict(x_final_test)\n",
    "test_predictions = model.predict(x_final_test)\n",
    "test_rounded_predictions = np.round(test_predictions)\n",
    "test_rounded_predictions[:20]"
   ]
  },
  {
   "cell_type": "code",
   "execution_count": null,
   "metadata": {
    "colab": {
     "base_uri": "https://localhost:8080/"
    },
    "id": "SPKiIof9pgJU",
    "outputId": "d5aa5950-394c-419e-fc26-6e24acedca3a"
   },
   "outputs": [
    {
     "data": {
      "text/plain": [
       "array([[1],\n",
       "       [1],\n",
       "       [1],\n",
       "       [1],\n",
       "       [1],\n",
       "       [1],\n",
       "       [1],\n",
       "       [0],\n",
       "       [1],\n",
       "       [1],\n",
       "       [1],\n",
       "       [1],\n",
       "       [1],\n",
       "       [1],\n",
       "       [1],\n",
       "       [1],\n",
       "       [0],\n",
       "       [0],\n",
       "       [0],\n",
       "       [0]])"
      ]
     },
     "execution_count": 36,
     "metadata": {},
     "output_type": "execute_result"
    }
   ],
   "source": [
    "# Target Outputs:\n",
    "t_final_test[:20]"
   ]
  },
  {
   "cell_type": "code",
   "execution_count": null,
   "metadata": {
    "colab": {
     "base_uri": "https://localhost:8080/"
    },
    "id": "__DRY6zFpceV",
    "outputId": "6535ee24-31f9-4b10-8412-bc8594541335"
   },
   "outputs": [
    {
     "name": "stdout",
     "output_type": "stream",
     "text": [
      "[[ True]\n",
      " [ True]\n",
      " [ True]\n",
      " [ True]\n",
      " [ True]\n",
      " [ True]\n",
      " [ True]\n",
      " [False]\n",
      " [ True]\n",
      " [ True]\n",
      " [ True]\n",
      " [ True]\n",
      " [ True]\n",
      " [ True]\n",
      " [ True]\n",
      " [ True]\n",
      " [ True]\n",
      " [ True]\n",
      " [ True]\n",
      " [ True]\n",
      " [ True]\n",
      " [ True]\n",
      " [False]\n",
      " [ True]\n",
      " [ True]\n",
      " [ True]\n",
      " [ True]\n",
      " [ True]\n",
      " [False]\n",
      " [ True]]\n"
     ]
    }
   ],
   "source": [
    "# Comparar las predicciones redondeadas con las etiquetas verdaderas\n",
    "test_correct_predictions = np.equal(test_rounded_predictions, t_final_test)\n",
    "# Imprimir las primeras 30 comparaciones de predicciones\n",
    "print(test_correct_predictions[:30])"
   ]
  },
  {
   "cell_type": "code",
   "execution_count": null,
   "metadata": {
    "colab": {
     "base_uri": "https://localhost:8080/"
    },
    "id": "K3QIIz8jp675",
    "outputId": "2d6b0f78-b337-4cd0-a3bc-16d950bec617"
   },
   "outputs": [
    {
     "name": "stdout",
     "output_type": "stream",
     "text": [
      "Número de predicciones correctas: 3178\n",
      "Número de predicciones incorrectas: 449\n"
     ]
    }
   ],
   "source": [
    "# Accuracy final de test:\n",
    "from collections import Counter\n",
    "final_test_prediction_results=Counter(test_correct_predictions.flatten())\n",
    "print(\"Número de predicciones correctas:\", final_test_prediction_results[True])\n",
    "print(\"Número de predicciones incorrectas:\", final_test_prediction_results[False])"
   ]
  },
  {
   "cell_type": "code",
   "execution_count": null,
   "metadata": {
    "colab": {
     "base_uri": "https://localhost:8080/"
    },
    "id": "Su9-tveTp_5Y",
    "outputId": "0f868a6c-52ca-4eea-cffe-86ea16543610"
   },
   "outputs": [
    {
     "data": {
      "text/plain": [
       "0.8762062310449408"
      ]
     },
     "execution_count": 40,
     "metadata": {},
     "output_type": "execute_result"
    }
   ],
   "source": [
    "final_test_prediction_results[True]/sum(final_test_prediction_results.values())"
   ]
  },
  {
   "cell_type": "markdown",
   "metadata": {
    "id": "O5hB55JLzqUM"
   },
   "source": [
    "Tenemos una precisión final de test del 87.62%."
   ]
  },
  {
   "cell_type": "markdown",
   "metadata": {
    "id": "3j-l6nMNqEeL"
   },
   "source": [
    "## MATRIZ DE CONFUSIÓN Y MÉTRICAS DE CLASIFICACIÓN"
   ]
  },
  {
   "cell_type": "code",
   "execution_count": null,
   "metadata": {
    "colab": {
     "base_uri": "https://localhost:8080/",
     "height": 130
    },
    "id": "3bcur6QsqCj3",
    "outputId": "31b02730-7196-496a-90f9-703017b2a309"
   },
   "outputs": [
    {
     "name": "stdout",
     "output_type": "stream",
     "text": [
      "Confusion Matrix\n"
     ]
    },
    {
     "data": {
      "application/vnd.google.colaboratory.intrinsic+json": {
       "summary": "{\n  \"name\": \"c_m\",\n  \"rows\": 2,\n  \"fields\": [\n    {\n      \"column\": \"Classes\",\n      \"properties\": {\n        \"dtype\": \"string\",\n        \"num_unique_values\": 2,\n        \"samples\": [\n          \"Pred_No_Cancelada\",\n          \"Pred_Cancelada\"\n        ],\n        \"semantic_type\": \"\",\n        \"description\": \"\"\n      }\n    },\n    {\n      \"column\": \"Cancelada\",\n      \"properties\": {\n        \"dtype\": \"number\",\n        \"std\": 480,\n        \"min\": 248,\n        \"max\": 928,\n        \"num_unique_values\": 2,\n        \"samples\": [\n          248,\n          928\n        ],\n        \"semantic_type\": \"\",\n        \"description\": \"\"\n      }\n    },\n    {\n      \"column\": \"No Cancelada\",\n      \"properties\": {\n        \"dtype\": \"number\",\n        \"std\": 1448,\n        \"min\": 201,\n        \"max\": 2250,\n        \"num_unique_values\": 2,\n        \"samples\": [\n          2250,\n          201\n        ],\n        \"semantic_type\": \"\",\n        \"description\": \"\"\n      }\n    },\n    {\n      \"column\": \"Sum\",\n      \"properties\": {\n        \"dtype\": \"number\",\n        \"std\": 968,\n        \"min\": 1129,\n        \"max\": 2498,\n        \"num_unique_values\": 2,\n        \"samples\": [\n          2498,\n          1129\n        ],\n        \"semantic_type\": \"\",\n        \"description\": \"\"\n      }\n    }\n  ]\n}",
       "type": "dataframe",
       "variable_name": "c_m"
      },
      "text/html": [
       "\n",
       "  <div id=\"df-2eba2cb9-b1c6-4b92-afaa-576989cbed86\" class=\"colab-df-container\">\n",
       "    <div>\n",
       "<style scoped>\n",
       "    .dataframe tbody tr th:only-of-type {\n",
       "        vertical-align: middle;\n",
       "    }\n",
       "\n",
       "    .dataframe tbody tr th {\n",
       "        vertical-align: top;\n",
       "    }\n",
       "\n",
       "    .dataframe thead th {\n",
       "        text-align: right;\n",
       "    }\n",
       "</style>\n",
       "<table border=\"1\" class=\"dataframe\">\n",
       "  <thead>\n",
       "    <tr style=\"text-align: right;\">\n",
       "      <th></th>\n",
       "      <th>Classes</th>\n",
       "      <th>Cancelada</th>\n",
       "      <th>No Cancelada</th>\n",
       "      <th>Sum</th>\n",
       "    </tr>\n",
       "  </thead>\n",
       "  <tbody>\n",
       "    <tr>\n",
       "      <th>0</th>\n",
       "      <td>Pred_Cancelada</td>\n",
       "      <td>928</td>\n",
       "      <td>201</td>\n",
       "      <td>1129</td>\n",
       "    </tr>\n",
       "    <tr>\n",
       "      <th>1</th>\n",
       "      <td>Pred_No_Cancelada</td>\n",
       "      <td>248</td>\n",
       "      <td>2250</td>\n",
       "      <td>2498</td>\n",
       "    </tr>\n",
       "  </tbody>\n",
       "</table>\n",
       "</div>\n",
       "    <div class=\"colab-df-buttons\">\n",
       "\n",
       "  <div class=\"colab-df-container\">\n",
       "    <button class=\"colab-df-convert\" onclick=\"convertToInteractive('df-2eba2cb9-b1c6-4b92-afaa-576989cbed86')\"\n",
       "            title=\"Convert this dataframe to an interactive table.\"\n",
       "            style=\"display:none;\">\n",
       "\n",
       "  <svg xmlns=\"http://www.w3.org/2000/svg\" height=\"24px\" viewBox=\"0 -960 960 960\">\n",
       "    <path d=\"M120-120v-720h720v720H120Zm60-500h600v-160H180v160Zm220 220h160v-160H400v160Zm0 220h160v-160H400v160ZM180-400h160v-160H180v160Zm440 0h160v-160H620v160ZM180-180h160v-160H180v160Zm440 0h160v-160H620v160Z\"/>\n",
       "  </svg>\n",
       "    </button>\n",
       "\n",
       "  <style>\n",
       "    .colab-df-container {\n",
       "      display:flex;\n",
       "      gap: 12px;\n",
       "    }\n",
       "\n",
       "    .colab-df-convert {\n",
       "      background-color: #E8F0FE;\n",
       "      border: none;\n",
       "      border-radius: 50%;\n",
       "      cursor: pointer;\n",
       "      display: none;\n",
       "      fill: #1967D2;\n",
       "      height: 32px;\n",
       "      padding: 0 0 0 0;\n",
       "      width: 32px;\n",
       "    }\n",
       "\n",
       "    .colab-df-convert:hover {\n",
       "      background-color: #E2EBFA;\n",
       "      box-shadow: 0px 1px 2px rgba(60, 64, 67, 0.3), 0px 1px 3px 1px rgba(60, 64, 67, 0.15);\n",
       "      fill: #174EA6;\n",
       "    }\n",
       "\n",
       "    .colab-df-buttons div {\n",
       "      margin-bottom: 4px;\n",
       "    }\n",
       "\n",
       "    [theme=dark] .colab-df-convert {\n",
       "      background-color: #3B4455;\n",
       "      fill: #D2E3FC;\n",
       "    }\n",
       "\n",
       "    [theme=dark] .colab-df-convert:hover {\n",
       "      background-color: #434B5C;\n",
       "      box-shadow: 0px 1px 3px 1px rgba(0, 0, 0, 0.15);\n",
       "      filter: drop-shadow(0px 1px 2px rgba(0, 0, 0, 0.3));\n",
       "      fill: #FFFFFF;\n",
       "    }\n",
       "  </style>\n",
       "\n",
       "    <script>\n",
       "      const buttonEl =\n",
       "        document.querySelector('#df-2eba2cb9-b1c6-4b92-afaa-576989cbed86 button.colab-df-convert');\n",
       "      buttonEl.style.display =\n",
       "        google.colab.kernel.accessAllowed ? 'block' : 'none';\n",
       "\n",
       "      async function convertToInteractive(key) {\n",
       "        const element = document.querySelector('#df-2eba2cb9-b1c6-4b92-afaa-576989cbed86');\n",
       "        const dataTable =\n",
       "          await google.colab.kernel.invokeFunction('convertToInteractive',\n",
       "                                                    [key], {});\n",
       "        if (!dataTable) return;\n",
       "\n",
       "        const docLinkHtml = 'Like what you see? Visit the ' +\n",
       "          '<a target=\"_blank\" href=https://colab.research.google.com/notebooks/data_table.ipynb>data table notebook</a>'\n",
       "          + ' to learn more about interactive tables.';\n",
       "        element.innerHTML = '';\n",
       "        dataTable['output_type'] = 'display_data';\n",
       "        await google.colab.output.renderOutput(dataTable, element);\n",
       "        const docLink = document.createElement('div');\n",
       "        docLink.innerHTML = docLinkHtml;\n",
       "        element.appendChild(docLink);\n",
       "      }\n",
       "    </script>\n",
       "  </div>\n",
       "\n",
       "\n",
       "<div id=\"df-21d41088-e338-43d1-97eb-b7e8e8852260\">\n",
       "  <button class=\"colab-df-quickchart\" onclick=\"quickchart('df-21d41088-e338-43d1-97eb-b7e8e8852260')\"\n",
       "            title=\"Suggest charts\"\n",
       "            style=\"display:none;\">\n",
       "\n",
       "<svg xmlns=\"http://www.w3.org/2000/svg\" height=\"24px\"viewBox=\"0 0 24 24\"\n",
       "     width=\"24px\">\n",
       "    <g>\n",
       "        <path d=\"M19 3H5c-1.1 0-2 .9-2 2v14c0 1.1.9 2 2 2h14c1.1 0 2-.9 2-2V5c0-1.1-.9-2-2-2zM9 17H7v-7h2v7zm4 0h-2V7h2v10zm4 0h-2v-4h2v4z\"/>\n",
       "    </g>\n",
       "</svg>\n",
       "  </button>\n",
       "\n",
       "<style>\n",
       "  .colab-df-quickchart {\n",
       "      --bg-color: #E8F0FE;\n",
       "      --fill-color: #1967D2;\n",
       "      --hover-bg-color: #E2EBFA;\n",
       "      --hover-fill-color: #174EA6;\n",
       "      --disabled-fill-color: #AAA;\n",
       "      --disabled-bg-color: #DDD;\n",
       "  }\n",
       "\n",
       "  [theme=dark] .colab-df-quickchart {\n",
       "      --bg-color: #3B4455;\n",
       "      --fill-color: #D2E3FC;\n",
       "      --hover-bg-color: #434B5C;\n",
       "      --hover-fill-color: #FFFFFF;\n",
       "      --disabled-bg-color: #3B4455;\n",
       "      --disabled-fill-color: #666;\n",
       "  }\n",
       "\n",
       "  .colab-df-quickchart {\n",
       "    background-color: var(--bg-color);\n",
       "    border: none;\n",
       "    border-radius: 50%;\n",
       "    cursor: pointer;\n",
       "    display: none;\n",
       "    fill: var(--fill-color);\n",
       "    height: 32px;\n",
       "    padding: 0;\n",
       "    width: 32px;\n",
       "  }\n",
       "\n",
       "  .colab-df-quickchart:hover {\n",
       "    background-color: var(--hover-bg-color);\n",
       "    box-shadow: 0 1px 2px rgba(60, 64, 67, 0.3), 0 1px 3px 1px rgba(60, 64, 67, 0.15);\n",
       "    fill: var(--button-hover-fill-color);\n",
       "  }\n",
       "\n",
       "  .colab-df-quickchart-complete:disabled,\n",
       "  .colab-df-quickchart-complete:disabled:hover {\n",
       "    background-color: var(--disabled-bg-color);\n",
       "    fill: var(--disabled-fill-color);\n",
       "    box-shadow: none;\n",
       "  }\n",
       "\n",
       "  .colab-df-spinner {\n",
       "    border: 2px solid var(--fill-color);\n",
       "    border-color: transparent;\n",
       "    border-bottom-color: var(--fill-color);\n",
       "    animation:\n",
       "      spin 1s steps(1) infinite;\n",
       "  }\n",
       "\n",
       "  @keyframes spin {\n",
       "    0% {\n",
       "      border-color: transparent;\n",
       "      border-bottom-color: var(--fill-color);\n",
       "      border-left-color: var(--fill-color);\n",
       "    }\n",
       "    20% {\n",
       "      border-color: transparent;\n",
       "      border-left-color: var(--fill-color);\n",
       "      border-top-color: var(--fill-color);\n",
       "    }\n",
       "    30% {\n",
       "      border-color: transparent;\n",
       "      border-left-color: var(--fill-color);\n",
       "      border-top-color: var(--fill-color);\n",
       "      border-right-color: var(--fill-color);\n",
       "    }\n",
       "    40% {\n",
       "      border-color: transparent;\n",
       "      border-right-color: var(--fill-color);\n",
       "      border-top-color: var(--fill-color);\n",
       "    }\n",
       "    60% {\n",
       "      border-color: transparent;\n",
       "      border-right-color: var(--fill-color);\n",
       "    }\n",
       "    80% {\n",
       "      border-color: transparent;\n",
       "      border-right-color: var(--fill-color);\n",
       "      border-bottom-color: var(--fill-color);\n",
       "    }\n",
       "    90% {\n",
       "      border-color: transparent;\n",
       "      border-bottom-color: var(--fill-color);\n",
       "    }\n",
       "  }\n",
       "</style>\n",
       "\n",
       "  <script>\n",
       "    async function quickchart(key) {\n",
       "      const quickchartButtonEl =\n",
       "        document.querySelector('#' + key + ' button');\n",
       "      quickchartButtonEl.disabled = true;  // To prevent multiple clicks.\n",
       "      quickchartButtonEl.classList.add('colab-df-spinner');\n",
       "      try {\n",
       "        const charts = await google.colab.kernel.invokeFunction(\n",
       "            'suggestCharts', [key], {});\n",
       "      } catch (error) {\n",
       "        console.error('Error during call to suggestCharts:', error);\n",
       "      }\n",
       "      quickchartButtonEl.classList.remove('colab-df-spinner');\n",
       "      quickchartButtonEl.classList.add('colab-df-quickchart-complete');\n",
       "    }\n",
       "    (() => {\n",
       "      let quickchartButtonEl =\n",
       "        document.querySelector('#df-21d41088-e338-43d1-97eb-b7e8e8852260 button');\n",
       "      quickchartButtonEl.style.display =\n",
       "        google.colab.kernel.accessAllowed ? 'block' : 'none';\n",
       "    })();\n",
       "  </script>\n",
       "</div>\n",
       "    </div>\n",
       "  </div>\n"
      ],
      "text/plain": [
       "             Classes  Cancelada  No Cancelada   Sum\n",
       "0     Pred_Cancelada        928           201  1129\n",
       "1  Pred_No_Cancelada        248          2250  2498"
      ]
     },
     "execution_count": 42,
     "metadata": {},
     "output_type": "execute_result"
    }
   ],
   "source": [
    "test_sparse_predictions = test_rounded_predictions\n",
    "test_sparse_targets = t_final_test\n",
    "print('Confusion Matrix')\n",
    "c_m=pd.DataFrame(confusion_matrix(test_sparse_predictions,test_sparse_targets),columns=['Cancelada', 'No Cancelada'])\n",
    "c_m.insert(0,'Classes',['Pred_Cancelada', 'Pred_No_Cancelada'])\n",
    "c_m['Sum']=c_m.sum(axis=1, numeric_only=True)\n",
    "c_m"
   ]
  },
  {
   "cell_type": "code",
   "execution_count": null,
   "metadata": {
    "colab": {
     "base_uri": "https://localhost:8080/"
    },
    "id": "AsEeKeYlqJm4",
    "outputId": "eadac40c-156b-494b-c8c7-e787de8860db"
   },
   "outputs": [
    {
     "name": "stdout",
     "output_type": "stream",
     "text": [
      "Classification Report\n",
      "              precision    recall  f1-score   support\n",
      "\n",
      "   Cancelada       0.82      0.79      0.81      1176\n",
      "No Cancelada       0.90      0.92      0.91      2451\n",
      "\n",
      "    accuracy                           0.88      3627\n",
      "   macro avg       0.86      0.85      0.86      3627\n",
      "weighted avg       0.88      0.88      0.88      3627\n",
      "\n"
     ]
    }
   ],
   "source": [
    "print('Classification Report')\n",
    "classes = ['Cancelada', 'No Cancelada']\n",
    "print(classification_report(test_sparse_targets, test_sparse_predictions, target_names=classes))"
   ]
  }
 ],
 "metadata": {
  "accelerator": "GPU",
  "colab": {
   "gpuType": "T4",
   "provenance": []
  },
  "kernelspec": {
   "display_name": "Python 3",
   "name": "python3"
  },
  "language_info": {
   "name": "python"
  }
 },
 "nbformat": 4,
 "nbformat_minor": 0
}
